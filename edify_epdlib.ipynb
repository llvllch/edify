{
 "cells": [
  {
   "cell_type": "code",
   "execution_count": 1,
   "metadata": {},
   "outputs": [],
   "source": [
    "%load_ext autoreload\n",
    "%autoreload 2\n",
    "\n",
    "%reload_ext autoreload"
   ]
  },
  {
   "cell_type": "code",
   "execution_count": 2,
   "metadata": {},
   "outputs": [],
   "source": [
    "import logging\n",
    "import feedparser\n",
    "import csv\n",
    "import random\n",
    "import waveshare_epd\n",
    "import requests\n",
    "from time import sleep\n",
    "import signal"
   ]
  },
  {
   "cell_type": "code",
   "execution_count": 3,
   "metadata": {},
   "outputs": [],
   "source": [
    "import epdlib"
   ]
  },
  {
   "cell_type": "code",
   "execution_count": 4,
   "metadata": {},
   "outputs": [],
   "source": [
    "# word a day layout\n",
    "wad_layout = {\n",
    "    'word': {\n",
    "        'width': 1,\n",
    "        'height': .5,\n",
    "        'font': './fonts/JosefinSans-Regular.ttf',\n",
    "        'max_lines': 2,\n",
    "        'hcenter': True,\n",
    "        'vcenter': True,\n",
    "        'abs_coordinates': (0, 0)\n",
    "    },\n",
    "    # this block is \"relative\" to the word block above\n",
    "    'definition': {\n",
    "        'width': 1,\n",
    "        'height': .5,\n",
    "        'font': './fonts/JosefinSans-Italic.ttf',\n",
    "        'max_lines': 4,\n",
    "        'hcenter': True,\n",
    "        'vcenter': True,\n",
    "        'align': 'left',\n",
    "        'abs_coordinates': (0, None),\n",
    "        'relative': ['definition', 'word']\n",
    "    }\n",
    "}"
   ]
  },
  {
   "cell_type": "code",
   "execution_count": 5,
   "metadata": {},
   "outputs": [],
   "source": [
    "# textfileflash layout\n",
    "tff_layout = {\n",
    "    'country': {\n",
    "        'width': 1,\n",
    "        'height': .4,\n",
    "        'font': './fonts/JosefinSans-Regular.ttf',\n",
    "        'max_lines': 3,\n",
    "        'align': 'center',\n",
    "        'hcenter': True,\n",
    "        'vcenter': True,\n",
    "        'abs_coordinates': (0, 0)        \n",
    "    },\n",
    "    # this block is relative to country\n",
    "    'capitol': {\n",
    "        'width': 1,\n",
    "        'height': .4,\n",
    "        'font': './fonts/JosefinSans-Regular.ttf',\n",
    "        'max_lines': 3,\n",
    "        'hcenter': True,\n",
    "        'vcenter': True,\n",
    "        'align': 'center',\n",
    "        'abs_coordinates': (0, None),\n",
    "        'relative': ['capitol', 'country']\n",
    "    },\n",
    "    # this block is relative to capitol\n",
    "    'continent': {\n",
    "        'width': 1,\n",
    "        'height': .2,\n",
    "        'font': './fonts/JosefinSans-Bold.ttf',\n",
    "        'max_lines': 2,\n",
    "        'hcenter': True,\n",
    "        'vcenter': True,\n",
    "        'align': 'center',\n",
    "        'abs_coordinates': (0, None),\n",
    "        'relative': ['continent', 'capitol']\n",
    "    }\n",
    "}"
   ]
  },
  {
   "cell_type": "code",
   "execution_count": 6,
   "metadata": {},
   "outputs": [],
   "source": [
    "rq_layout = {\n",
    "    'quote': {\n",
    "        'width': 1,\n",
    "        'height': 1,\n",
    "        'font': './fonts/JosefinSans-Regular.ttf',\n",
    "        'align': 'left',\n",
    "        'max_lines': 8,\n",
    "        'rand': True,\n",
    "        'abs_coordinates': (0, 0)\n",
    "    }\n",
    "}"
   ]
  },
  {
   "cell_type": "code",
   "execution_count": 7,
   "metadata": {},
   "outputs": [],
   "source": [
    "class InterruptHandler(object):\n",
    "    '''catch SIGINT and SIGTERM gracefully for terminating long-running process or loops\n",
    "    \n",
    "        see: https://stackoverflow.com/a/35798485/5530152\n",
    "    \n",
    "        EXAMPLE:\n",
    "            counter = 0\n",
    "            with InterruptHandler() as h:\n",
    "                while True:\n",
    "                    # long running process/loop here\n",
    "                    counter += 1\n",
    "                    print(counter)\n",
    "                    time.sleep(0.25)\n",
    "\n",
    "                    if h.interrupted:\n",
    "                        print('interrupted')\n",
    "                        break\n",
    "            print('cleanup happens here')\n",
    "            print(f'I counted {counter} times')\n",
    "    \n",
    "    '''\n",
    "    def __init__(self, signals=(signal.SIGINT, signal.SIGTERM)):\n",
    "        self.signals = signals\n",
    "        self.original_handlers = {}\n",
    "\n",
    "    def __enter__(self):\n",
    "        self.interrupted = False\n",
    "        self.released = False\n",
    "\n",
    "        for sig in self.signals:\n",
    "            self.original_handlers[sig] = signal.getsignal(sig)\n",
    "            signal.signal(sig, self.handler)\n",
    "\n",
    "        return self\n",
    "\n",
    "    def handler(self, signum, frame):\n",
    "        self.release()\n",
    "        self.interrupted = True\n",
    "\n",
    "    def __exit__(self, type, value, tb):\n",
    "        self.release()\n",
    "\n",
    "    def release(self):\n",
    "        if self.released:\n",
    "            return False\n",
    "\n",
    "        for sig in self.signals:\n",
    "            signal.signal(sig, self.original_handlers[sig])\n",
    "\n",
    "        self.released = True\n",
    "        return True"
   ]
  },
  {
   "cell_type": "code",
   "execution_count": 8,
   "metadata": {},
   "outputs": [],
   "source": [
    "class SIGINT_handler():\n",
    "    def __init__(self):\n",
    "        self.SIGINT = False\n",
    "\n",
    "    def signal_handler(self, signal, frame):\n",
    "        print('You pressed Ctrl+C!')\n",
    "        self.SIGINT = True"
   ]
  },
  {
   "cell_type": "code",
   "execution_count": 9,
   "metadata": {},
   "outputs": [],
   "source": [
    "def wordaday():\n",
    "    feed = feedparser.parse('https://wordsmith.org/awad/rss1.xml')\n",
    "    word = feed.entries[0].title\n",
    "    definition = feed.entries[0].summary\n",
    "    return {'word': word, 'definition': definition}\n",
    "    \n",
    "    \n",
    "    "
   ]
  },
  {
   "cell_type": "code",
   "execution_count": 10,
   "metadata": {},
   "outputs": [],
   "source": [
    "def textfileflash():\n",
    "    with open('./data/country-capitals.tsv') as tsv:\n",
    "        reader = csv.DictReader(tsv, delimiter='\\t')\n",
    "        country_dict = (list(reader))\n",
    "        \n",
    "    entry = country_dict[random.randrange(0, len(country_dict))]\n",
    "    \n",
    "    return {'capitol': f\"Capitol: {entry['Capitol']}\",\n",
    "            'country': f\"Country: {entry['Country']}\",\n",
    "            'continent': entry['Continent']}\n",
    "        \n",
    "    \n",
    "        "
   ]
  },
  {
   "cell_type": "code",
   "execution_count": 11,
   "metadata": {},
   "outputs": [],
   "source": [
    "def redditquotes():\n",
    "    quoteurl = 'https://www.reddit.com/r/quotes/top/.json?t=week&limit=100'\n",
    "    rawquotes = requests.get(quoteurl,headers={'User-agent': 'Chrome'}).json()\n",
    "    quotestack = []\n",
    "    for quote in rawquotes['data']['children']:\n",
    "        quotestack.append(quote['data']['title'])\n",
    "    \n",
    "    # pick reasonably small quotes\n",
    "    while True:\n",
    "        quote = quotestack[random.randrange(0, len(quotestack))]\n",
    "        if len(quote) < 110:\n",
    "            break\n",
    "    \n",
    "    return {'quote': quote}"
   ]
  },
  {
   "cell_type": "code",
   "execution_count": 17,
   "metadata": {},
   "outputs": [],
   "source": [
    "def main():\n",
    "    # set the name of the EPD screen here\n",
    "    # to view all supported types use:\n",
    "    # $ python -m epdlib.Screen \n",
    "    epd = 'epd5in83'\n",
    "    screen = epdlib.Screen(epd=epd)\n",
    "\n",
    "    l_wad = epdlib.Layout(resolution=screen.resolution, layout=wad_layout)\n",
    "    l_tff = epdlib.Layout(resolution=screen.resolution, layout=tff_layout)\n",
    "    l_rq = epdlib.Layout(resolution=screen.resolution, layout=rq_layout)\n",
    "\n",
    "    with InterruptHandler() as h:\n",
    "        while True:    \n",
    "            # allow a clean way to break out of the loop\n",
    "            if h.interrupted:\n",
    "                break\n",
    "\n",
    "            l_wad.update_contents(wordaday())\n",
    "            screen.writeEPD(l_wad.concat())\n",
    "            sleep(2)\n",
    "\n",
    "            # cludgy way to stop without completing loop\n",
    "            if h.interrupted:\n",
    "                break        \n",
    "\n",
    "            l_tff.update_contents(textfileflash())\n",
    "            screen.writeEPD(l_tff.concat())\n",
    "            sleep(2)\n",
    "\n",
    "            # cludgy way to stop without completing loop\n",
    "            if h.interrupted:\n",
    "                break\n",
    "\n",
    "            l_rq.update_contents(redditquotes())\n",
    "            screen.writeEPD(l_rq.concat())\n",
    "            sleep(2)\n",
    "    print('cleaning up')\n",
    "    screen.clearEPD()\n"
   ]
  },
  {
   "cell_type": "code",
   "execution_count": 16,
   "metadata": {},
   "outputs": [
    {
     "ename": "NameError",
     "evalue": "name 'main' is not defined",
     "output_type": "error",
     "traceback": [
      "\u001b[0;31m---------------------------------------------------------------------------\u001b[0m",
      "\u001b[0;31mNameError\u001b[0m                                 Traceback (most recent call last)",
      "\u001b[0;32m/tmp/ipykernel_28393/217905245.py\u001b[0m in \u001b[0;36m<module>\u001b[0;34m\u001b[0m\n\u001b[1;32m      1\u001b[0m \u001b[0;32mif\u001b[0m \u001b[0m__name__\u001b[0m \u001b[0;34m==\u001b[0m \u001b[0;34m'__main__'\u001b[0m\u001b[0;34m:\u001b[0m\u001b[0;34m\u001b[0m\u001b[0;34m\u001b[0m\u001b[0m\n\u001b[0;32m----> 2\u001b[0;31m     \u001b[0mmain\u001b[0m\u001b[0;34m(\u001b[0m\u001b[0;34m)\u001b[0m\u001b[0;34m\u001b[0m\u001b[0;34m\u001b[0m\u001b[0m\n\u001b[0m",
      "\u001b[0;31mNameError\u001b[0m: name 'main' is not defined"
     ]
    }
   ],
   "source": [
    "if __name__ == '__main__':\n",
    "    main()"
   ]
  },
  {
   "cell_type": "code",
   "execution_count": 18,
   "metadata": {},
   "outputs": [
    {
     "name": "stdout",
     "output_type": "stream",
     "text": [
      "[NbConvertApp] Converting notebook edify_epdlib.ipynb to python\n",
      "[NbConvertApp] Writing 5935 bytes to edify_epdlib.py\n"
     ]
    }
   ],
   "source": [
    "!jupyter-nbconvert --to python --template python_clean edify_epdlib.ipynb"
   ]
  },
  {
   "cell_type": "code",
   "execution_count": null,
   "metadata": {},
   "outputs": [],
   "source": []
  }
 ],
 "metadata": {
  "kernelspec": {
   "display_name": "edify-bddKFo79",
   "language": "python",
   "name": "edify-bddkfo79"
  },
  "language_info": {
   "codemirror_mode": {
    "name": "ipython",
    "version": 3
   },
   "file_extension": ".py",
   "mimetype": "text/x-python",
   "name": "python",
   "nbconvert_exporter": "python",
   "pygments_lexer": "ipython3",
   "version": "3.7.3"
  }
 },
 "nbformat": 4,
 "nbformat_minor": 4
}
